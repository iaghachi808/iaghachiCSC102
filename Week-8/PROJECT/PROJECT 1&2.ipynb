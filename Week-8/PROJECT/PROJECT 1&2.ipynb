{
 "cells": [
  {
   "cell_type": "code",
   "execution_count": 3,
   "id": "eab3c136",
   "metadata": {},
   "outputs": [
    {
     "name": "stdout",
     "output_type": "stream",
     "text": [
      "Title: Manager \n",
      "Name(Firstname Lastname): Mary Evans \n",
      "Access Denied!\n",
      "Name Not Found\n"
     ]
    }
   ],
   "source": [
    "\n",
    "import random as rd\n",
    "import datetime as dt\n",
    "\n",
    "class Employee():\n",
    "    def __init__(jdb, employees, tasks, emp_name):\n",
    "        jdb.emp = employees\n",
    "        jdb.task = tasks\n",
    "        jdb.empname = emp_name\n",
    "        \n",
    "    def check_employee(jdb, num, title):\n",
    "        jdb.num = num\n",
    "        jdb.title = title\n",
    "        for i in range(15):\n",
    "            if jdb.empname == jdb.emp[i]:\n",
    "                jdb.num = jdb.num + 1\n",
    "                print('Access Granted!')\n",
    "                a.take_attendance()\n",
    "                print('Good Day {}. {}'.format(jdb.title, jdb.empname))\n",
    "                a.assign_task()\n",
    "        if jdb.num < 1:\n",
    "            a.refuse_access()\n",
    "                \n",
    "    def take_attendance(jdb):\n",
    "        date = dt.datetime.now()\n",
    "        attendance = print('Attendance for {} {} - Present'.format(date.strftime(\"%A\"), date.strftime(\"%x\")))\n",
    "        return (attendance)\n",
    "        \n",
    "    def assign_task(jdb):\n",
    "        task = jdb.task[rd.randint(0, len(jdb.task) - 1)]\n",
    "        print('Task for Today: {}'.format(task))\n",
    "    \n",
    "    def refuse_access(jdb):\n",
    "        print('Access Denied!\\nName Not Found')\n",
    "\n",
    "num = 0\n",
    "employees = [\"Mary Evans\", \"Eyo Ishan\", \"Durojaiye Dare\", \"Adams Ali\", \"Andrew Ugwu\", \"Stella Mankinde\", \"Jane Akibo\", \"Ago James\", \"Michell Taiwo\", \"Abraham Jones\" , \"Nicole Anide\", \"Kosi Korso\", \"Adele Martins\", \"Emmanuel Ojo\", \"Ajayi Fatima\"]\n",
    "tasks = [\"Loading\", \"Transporting\", \"Reveiwing Orders\", \"Customer Service\", \"Delivering Items\"]\n",
    "title = input(\"Title: \")\n",
    "emp_name = input(\"Name(Firstname Lastname): \")\n",
    "a = Employee(employees, tasks, emp_name)\n",
    "\n",
    "a.check_employee(num, title)"
   ]
  },
  {
   "cell_type": "code",
   "execution_count": 18,
   "id": "1242f029",
   "metadata": {},
   "outputs": [
    {
     "name": "stdout",
     "output_type": "stream",
     "text": [
      "Welcome to Chizim Delivery Services! \n",
      "Where would you like your package delivered to?\n",
      "Enter 1 for PAU\n",
      "   Or 2 for Epe\n",
      "1\n",
      "How much does the package weigh in kilograms(kg)?\n",
      "23\n",
      "Delivery price is N2000.\n"
     ]
    }
   ],
   "source": [
    "class delivery:\n",
    "    def __init__(self, weight, location):\n",
    "        self.weight = weight\n",
    "        self.location = location\n",
    "        \n",
    "    \n",
    "    def pau_price(self):\n",
    "        if self.weight >= 10:\n",
    "            price = 2000\n",
    "            print(\"Delivery price is N{}.\".format(price))\n",
    "        elif self.weight < 10:\n",
    "            price = 1500\n",
    "            print(\"Delivery price is N{}.\".format(price))\n",
    "            \n",
    "    def epe_price(self):\n",
    "        if self.weight >= 10:\n",
    "            price = 5000\n",
    "            print(\"Delivery price is N{}.\".format(price))\n",
    "        elif self.weight < 10:\n",
    "            price = 4000\n",
    "            print(\"Delivery price is N{}.\".format(price))\n",
    "            \n",
    "location = int(input(\"Welcome to Chizim Delivery Services! \\nWhere would you like your package delivered to?\\nEnter 1 for PAU\\n   Or 2 for Epe\\n\"))\n",
    "weight =int(input(\"How much does the package weigh in kilograms(kg)?\\n\"))\n",
    "obj = delivery(weight, location)\n",
    "if obj.location == 1:\n",
    "    obj.pau_price()\n",
    "elif self.location == 2:\n",
    "    obj.epe_price()"
   ]
  },
  {
   "cell_type": "code",
   "execution_count": null,
   "id": "e8f0c334",
   "metadata": {},
   "outputs": [],
   "source": []
  }
 ],
 "metadata": {
  "kernelspec": {
   "display_name": "Python 3 (ipykernel)",
   "language": "python",
   "name": "python3"
  },
  "language_info": {
   "codemirror_mode": {
    "name": "ipython",
    "version": 3
   },
   "file_extension": ".py",
   "mimetype": "text/x-python",
   "name": "python",
   "nbconvert_exporter": "python",
   "pygments_lexer": "ipython3",
   "version": "3.10.9"
  }
 },
 "nbformat": 4,
 "nbformat_minor": 5
}
