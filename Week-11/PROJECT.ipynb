{
 "cells": [
  {
   "cell_type": "code",
   "execution_count": 33,
   "id": "5f521548",
   "metadata": {},
   "outputs": [
    {
     "name": "stdout",
     "output_type": "stream",
     "text": [
      "    MatNo               Name  Age  Grade\n",
      "0    1810       Aina Adeleke   16     80\n",
      "1    1811        Sola Egbune   23     55\n",
      "2    1812    Callistus Okeke   17     40\n",
      "3    1813      Martin Alegbe   25     77\n",
      "4    1814        Mary Akande   20     87\n",
      "5    1815    Stella Olohimen   17     44\n",
      "6    1816       Gabriel Pati   18     50\n",
      "7    1817    Durojaiye Adamu   24     60\n",
      "8    1818     Kolawole Alabi   18     67\n",
      "9    1819      Tope Ogunleye   22     54\n",
      "10   1820  Wilfred Nwachukwu   16     45\n",
      "11   1821      Mildred James   15     70\n",
      "12   1822     Glory Babalola   21     69\n",
      "13   1823          Edith Ade   22     57\n",
      "14   1824      Godwin Osahon   20     51\n",
      "15   1825       Philip Odion   19     68\n",
      "\n",
      "0     16\n",
      "1     23\n",
      "2     17\n",
      "3     25\n",
      "4     20\n",
      "5     17\n",
      "6     18\n",
      "7     24\n",
      "8     18\n",
      "9     22\n",
      "10    16\n",
      "11    15\n",
      "12    21\n",
      "13    22\n",
      "14    20\n",
      "15    19\n",
      "Name: Age, dtype: int64\n",
      "0     16\n",
      "1     23\n",
      "2     17\n",
      "3     25\n",
      "4     20\n",
      "5     17\n",
      "6     18\n",
      "7     24\n",
      "8     18\n",
      "9     22\n",
      "10    16\n",
      "11    15\n",
      "12    21\n",
      "13    22\n",
      "14    20\n",
      "15    19\n",
      "Name: Age, dtype: int64\n"
     ]
    }
   ],
   "source": [
    "import pandas as pd \n",
    "class sims():\n",
    "    \n",
    "    def pirates(self, data):      \n",
    "        #print(data)\n",
    "        columns = list(data)\n",
    "        for i in range(len(data.Age)):\n",
    "            # printing the third element of the column\n",
    "            if data.Age[i] == 16:\n",
    "                print(data['Age'])\n",
    "                \n",
    "            #for i,j in data.iterrows():\n",
    "            \n",
    "            \n",
    "#             if data[j] > 14 and data[j] < 18:\n",
    "#                  print(data)\n",
    "# #              df = pd.DataFrame(The_pirates)\n",
    "# #              df.to_csv('The_pirates.csv')\n",
    "\n",
    "data = pd.read_csv(\"sis.csv\")  \n",
    "print(data)\n",
    "print(\"\")\n",
    "object = sims()\n",
    "object.pirates(data)\n",
    "\n",
    "        \n",
    "    "
   ]
  },
  {
   "cell_type": "code",
   "execution_count": null,
   "id": "e19eef8c",
   "metadata": {},
   "outputs": [],
   "source": []
  }
 ],
 "metadata": {
  "kernelspec": {
   "display_name": "Python 3 (ipykernel)",
   "language": "python",
   "name": "python3"
  },
  "language_info": {
   "codemirror_mode": {
    "name": "ipython",
    "version": 3
   },
   "file_extension": ".py",
   "mimetype": "text/x-python",
   "name": "python",
   "nbconvert_exporter": "python",
   "pygments_lexer": "ipython3",
   "version": "3.10.9"
  }
 },
 "nbformat": 4,
 "nbformat_minor": 5
}
