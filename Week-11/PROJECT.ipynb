{
 "cells": [
  {
   "cell_type": "code",
   "execution_count": 17,
   "id": "5f521548",
   "metadata": {},
   "outputs": [
    {
     "name": "stdout",
     "output_type": "stream",
     "text": [
      "What file do you wish to see \n",
      " Press 1 for The Pirates \n",
      " Press 2 for The Yankees \n",
      " Press 3 for The Bulls3\n",
      "File has been displayed\n"
     ]
    }
   ],
   "source": [
    "import pandas as pd \n",
    "class sims():\n",
    "    \n",
    "    def pirates(self, data):      \n",
    "        for i in range(len(data.Age)):\n",
    "            if data.Age[i] > 14 and data.Age[i] < 18:\n",
    "                pirates_data = [data.MatNo[i], data.Name[i], data.Age[i], data.Grade[i]]\n",
    "                Pirates = pd.DataFrame(pirates_data)\n",
    "                Pirates.to_csv('Pirates File.csv')\n",
    "                \n",
    "    def yankees(self, data):\n",
    "        for i in range(len(data.Age)):\n",
    "            if data.Age[i] > 18 and data.Age[i] < 22:\n",
    "            \n",
    "                yankees_data = [data.MatNo[i], data.Name[i], data.Age[i], data.Grade[i]]\n",
    "                Yankees = pd.DataFrame(yankees_data)\n",
    "                Yankees.to_csv('Yankees_File.csv')\n",
    "        \n",
    "    def Bulls(self, data):\n",
    "        for i in range(len(data.Age)):\n",
    "            if data.Age[i] > 22:\n",
    "        \n",
    "        \n",
    "                bulls_data = [data.MatNo[i], data.Name[i], data.Age[i], data.Grade[i]]\n",
    "                Bulls = pd.DataFrame(bulls_data)\n",
    "                Bulls.to_csv('Bulls File.csv')\n",
    "\n",
    "            \n",
    "\n",
    "\n",
    "data = pd.read_csv(\"sis.csv\")  \n",
    "kpomo = sims()\n",
    "file = int(input(\"What file do you wish to see \\n Press 1 for The Pirates \\n Press 2 for The Yankees \\n Press 3 for The Bulls\"))\n",
    "\n",
    "if file == 1:\n",
    "    kpomo.pirates(data)\n",
    "    print(\"File has been displayed\")\n",
    "elif file == 2:\n",
    "    kpomo.yankees(data)\n",
    "    print(\"File has been displayed\")\n",
    "elif file == 3:\n",
    "    kpomo.Bulls(data)\n",
    "    print(\"File has been displayed\")\n",
    "else:\n",
    "    print(\"You're not welcome \")\n",
    "\n",
    "\n",
    "        \n",
    "    "
   ]
  },
  {
   "cell_type": "code",
   "execution_count": null,
   "id": "e19eef8c",
   "metadata": {},
   "outputs": [],
   "source": []
  },
  {
   "cell_type": "code",
   "execution_count": null,
   "id": "5b845ecb",
   "metadata": {},
   "outputs": [],
   "source": []
  }
 ],
 "metadata": {
  "kernelspec": {
   "display_name": "Python 3 (ipykernel)",
   "language": "python",
   "name": "python3"
  },
  "language_info": {
   "codemirror_mode": {
    "name": "ipython",
    "version": 3
   },
   "file_extension": ".py",
   "mimetype": "text/x-python",
   "name": "python",
   "nbconvert_exporter": "python",
   "pygments_lexer": "ipython3",
   "version": "3.10.9"
  }
 },
 "nbformat": 4,
 "nbformat_minor": 5
}
