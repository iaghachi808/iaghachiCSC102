{
 "cells": [
  {
   "cell_type": "code",
   "execution_count": 1,
   "id": "0bcfa340",
   "metadata": {},
   "outputs": [
    {
     "name": "stdout",
     "output_type": "stream",
     "text": [
      "What club do you support:TSG Walker\n",
      "Welcome to TSG Walker\n"
     ]
    }
   ],
   "source": [
    "from abc import ABC, abstractmethod\n",
    "\n",
    "class coupe_de_escriva(ABC):\n",
    "    @abstractmethod\n",
    "    def Fan_page(self):\n",
    "        pass\n",
    "    \n",
    "class FC_Cirok(coupe_de_escriva):\n",
    "    def Fan_page(self):\n",
    "        print(f\"Welcome to {club}\")\n",
    "        \n",
    "class Madiba_FC(coupe_de_escriva):\n",
    "    def Fan_page(self):\n",
    "        print(f\"Welcome to {club}\")\n",
    "        \n",
    "class Blue_Jay_FC(coupe_de_escriva):\n",
    "    def Fan_page(self):\n",
    "        print(f\"Welcome to {club}\")\n",
    "        \n",
    "class TSG_Walker(coupe_de_escriva):\n",
    "    def Fan_page(self):\n",
    "        print(f\"Welcome to {club}\")\n",
    "        \n",
    "club = input(\"What club do you support:\")\n",
    "if club == \"FC CIROK\":\n",
    "    dog = FC_Cirok()\n",
    "    dog.Fan_page()\n",
    "elif club == \"Madiba FC\":\n",
    "    duck = Madiba_FC()\n",
    "    duck.Fan_page()\n",
    "elif club == \"Blue Jay FC\":\n",
    "    snake = Blue_Jay_FC()\n",
    "    snake.Fan_page()\n",
    "elif club == \"TSG Walker\":\n",
    "    worm = TSG_Walker()\n",
    "    worm.Fan_page()\n",
    "else:\n",
    "    print(\"Go to library\")\n",
    "    \n",
    "    "
   ]
  },
  {
   "cell_type": "code",
   "execution_count": 40,
   "id": "1b920c34",
   "metadata": {},
   "outputs": [
    {
     "name": "stdout",
     "output_type": "stream",
     "text": [
      "What vendor would you like to buy from:Faith Hostel\n",
      "           Main Meal:  NGN: \n",
      "0           Fried Rice   400\n",
      "1  White Rice and Stew   400\n",
      "2          Jollof Rice   400\n",
      "3                Beans   200\n",
      "4              Chicken  1000\n"
     ]
    }
   ],
   "source": [
    "from abc import ABC, abstractmethod\n",
    "import pandas as pd\n",
    "\n",
    "class External_Vendors(ABC):\n",
    "    @abstractmethod\n",
    "    def menu(self):\n",
    "        pass\n",
    "    \n",
    "class cooperative_cafeteria(External_Vendors):\n",
    "    def menu(self):\n",
    "        food = {'Main Meal: ':['Jollof Rice and Stew', 'White Rice and Stew', 'Fried Rice','Salad','Plantain'], \n",
    "                'NGN: ':['200','200','200','100','100']}\n",
    "        df = pd.DataFrame(food)\n",
    "        print(df)\n",
    "        \n",
    "class Faith_Hostel_Cafeteria(External_Vendors):\n",
    "    def menu(self):\n",
    "        good = {'Main Meal: ':['Fried Rice', 'White Rice and Stew', 'Jollof Rice', 'Beans', 'Chicken'],\n",
    "                'NGN: ':['400', '400','400','200','1000']}\n",
    "        df = pd.DataFrame(good)\n",
    "        print(df)\n",
    "        \n",
    "class Student_Centre_Cafeteria(External_Vendors):\n",
    "    def menu(self):\n",
    "        mood = {'Main Meal: ':['Chicken Fried Rice', 'Pomo Sauce', 'Spaghetti Jollof', 'Amala/Ewedu', 'Semo with Eforiro Soup'],\n",
    "                               'NGN: ':['800', '300','500','500','500']}\n",
    "        df = pd.DataFrame(mood)\n",
    "        print(df)\n",
    "        \n",
    "        \n",
    "coop = input(\"What vendor would you like to buy from:\")\n",
    "if coop == \"Cooperative\":\n",
    "    goat = cooperative_cafeteria()\n",
    "    goat.menu()\n",
    "elif coop == \"Faith Hostel\":\n",
    "    horse = Faith_Hostel_Cafeteria()\n",
    "    horse.menu()\n",
    "elif coop == \"Student Center\":\n",
    "    frog = Student_Centre_Cafeteria()\n",
    "    frog.menu()\n",
    "else:\n",
    "    print(\"You're not hungry \")\n",
    "        "
   ]
  },
  {
   "cell_type": "code",
   "execution_count": null,
   "id": "0c531ff4",
   "metadata": {},
   "outputs": [],
   "source": []
  },
  {
   "cell_type": "code",
   "execution_count": null,
   "id": "a6279eeb",
   "metadata": {},
   "outputs": [],
   "source": []
  }
 ],
 "metadata": {
  "kernelspec": {
   "display_name": "Python 3 (ipykernel)",
   "language": "python",
   "name": "python3"
  },
  "language_info": {
   "codemirror_mode": {
    "name": "ipython",
    "version": 3
   },
   "file_extension": ".py",
   "mimetype": "text/x-python",
   "name": "python",
   "nbconvert_exporter": "python",
   "pygments_lexer": "ipython3",
   "version": "3.10.9"
  }
 },
 "nbformat": 4,
 "nbformat_minor": 5
}
