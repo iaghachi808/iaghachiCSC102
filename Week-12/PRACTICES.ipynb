{
 "cells": [
  {
   "cell_type": "code",
   "execution_count": 7,
   "id": "6c6576f9",
   "metadata": {},
   "outputs": [],
   "source": [
    "from abc import ABC, abstractmethod\n",
    "\n",
    "# Abstract Class\n",
    "class product(ABC):                    \n",
    "    \n",
    "    # Normal Method\n",
    "    def item_list(self, rate):\n",
    "        print(\"amount submitted : \",rate)\n",
    "    \n",
    "    # Abstract Method\n",
    "    @abstractmethod\n",
    "    def product(self,rate): \n",
    "        print(\"Hello world\")\n",
    "        \n",
    "        "
   ]
  },
  {
   "cell_type": "code",
   "execution_count": 13,
   "id": "847c5e55",
   "metadata": {},
   "outputs": [
    {
     "name": "stdout",
     "output_type": "stream",
     "text": [
      "Volume of a rectangle: 144\n",
      "Volume of a circle: 2089.9840000000004\n",
      "Volume of a square: 125\n",
      "Volume of a triangle: 10.0\n"
     ]
    }
   ],
   "source": [
    "from abc import ABC\n",
    "\n",
    "class geometric(ABC):\n",
    "    \n",
    "    def volume(self):\n",
    "        #abstract method\n",
    "        pass\n",
    "    \n",
    "class Rect(geometric):\n",
    "    length = 4\n",
    "    width = 6\n",
    "    height = 6\n",
    "    \n",
    "    def volume(self):\n",
    "        return self.length * self.width *self.height\n",
    "    \n",
    "class Sphere(geometric):\n",
    "    radius = 8\n",
    "    def volume(self):\n",
    "        return 1.3 * 3.14 * self.radius * self.radius *self.radius\n",
    "    \n",
    "class Cube(geometric):\n",
    "    Edge = 5\n",
    "    def volume(self):\n",
    "        return self.Edge * self.Edge *self.Edge\n",
    "    \n",
    "class triangle_3D:\n",
    "    length = 5\n",
    "    width = 4\n",
    "    def volume(self):\n",
    "        return 0.5 * self.length * self.width\n",
    "    \n",
    "rr = Rect()\n",
    "ss = Sphere()\n",
    "cc = Cube()\n",
    "tt = triangle_3D()\n",
    "print(\"Volume of a rectangle:\", rr.volume())\n",
    "print(\"Volume of a circle:\", ss.volume())\n",
    "print(\"Volume of a square:\", cc.volume())\n",
    "print(\"Volume of a triangle:\", tt.volume())"
   ]
  },
  {
   "cell_type": "code",
   "execution_count": 15,
   "id": "b4464b18",
   "metadata": {},
   "outputs": [
    {
     "name": "stdout",
     "output_type": "stream",
     "text": [
      "paycheque of:  6500\n",
      "Purchase of the product:  6500\n"
     ]
    },
    {
     "ename": "NameError",
     "evalue": "name 'Invoice' is not defined",
     "output_type": "error",
     "traceback": [
      "\u001b[1;31m---------------------------------------------------------------------------\u001b[0m",
      "\u001b[1;31mNameError\u001b[0m                                 Traceback (most recent call last)",
      "Cell \u001b[1;32mIn[15], line 22\u001b[0m\n\u001b[0;32m     20\u001b[0m aa\u001b[38;5;241m.\u001b[39mInvoice(\u001b[38;5;241m6500\u001b[39m)\n\u001b[0;32m     21\u001b[0m aa\u001b[38;5;241m.\u001b[39mfinal_bill(\u001b[38;5;241m6500\u001b[39m)\n\u001b[1;32m---> 22\u001b[0m \u001b[38;5;28mprint\u001b[39m(\u001b[38;5;28misinstance\u001b[39m(aa,\u001b[43mInvoice\u001b[49m))\n\u001b[0;32m     24\u001b[0m aa \u001b[38;5;241m=\u001b[39m CardPayment()\n\u001b[0;32m     25\u001b[0m aa\u001b[38;5;241m.\u001b[39mInvoice(\u001b[38;5;241m2600\u001b[39m)\n",
      "\u001b[1;31mNameError\u001b[0m: name 'Invoice' is not defined"
     ]
    }
   ],
   "source": [
    "from abc import ABC, abstractmethod\n",
    "\n",
    "class Bill(ABC):\n",
    "    def final_bill(self, pay):\n",
    "        print('Purchase of the product: ', pay)\n",
    "        \n",
    "    @abstractmethod\n",
    "    def Invoice(self, pay):\n",
    "        pass\n",
    "    \n",
    "class Paycheque(Bill):\n",
    "    def Invoice(self, pay):\n",
    "        print('paycheque of: ', pay)\n",
    "        \n",
    "class CardPayment(Bill):\n",
    "    def Invoice(self, pay):\n",
    "        print('pay through card of: ', pay)\n",
    "        \n",
    "aa = Paycheque()\n",
    "aa.Invoice(6500)\n",
    "aa.final_bill(6500)\n",
    "print(isinstance(aa,Invoice))\n",
    "\n",
    "aa = CardPayment()\n",
    "aa.Invoice(2600)\n",
    "aa.final_bill(2600)\n",
    "print(isinstance(aa,Paycheck))"
   ]
  },
  {
   "cell_type": "code",
   "execution_count": 28,
   "id": "ceafa318",
   "metadata": {},
   "outputs": [
    {
     "name": "stdout",
     "output_type": "stream",
     "text": [
      "What animal specie are you?: Dog \n",
      "Invalid animal specie\n"
     ]
    }
   ],
   "source": [
    "from abc import ABC, abstractmethod\n",
    "\n",
    "class Animal(ABC):\n",
    "\n",
    "    @abstractmethod\n",
    "    def move(self):\n",
    "        pass\n",
    "\n",
    "class Human(Animal):\n",
    "    \n",
    "    def move(self,Animal):\n",
    "        print(f\"\\n You are {Animal}. You can walk and run\")\n",
    "\n",
    "class Snake(Animal):\n",
    "    \n",
    "    def move(self,Animal):\n",
    "        print(f\"\\n You are a {Animal}. You can crawl\")\n",
    "\n",
    "class Dog(Animal):\n",
    "\n",
    "    def move(self,Animal):\n",
    "        print(f\"\\n You are a {Animal}. You can bark\")\n",
    "\n",
    "class Lion(Animal):\n",
    "    \n",
    "    def move(self,Animal):\n",
    "        print(f\"\\n You are a {Animal}. You can roar\")\n",
    "\n",
    "# Object Instantiation\n",
    "animal = input(\"What animal specie are you?: \")\n",
    "\n",
    "if animal == \"Human\":\n",
    "    H = Human()\n",
    "    H.move(Animal)\n",
    "elif animal == \"Snake\":\n",
    "    S = Snake()\n",
    "    S.move(Animal)\n",
    "elif animal == \"Dog\":\n",
    "    D = Dog()\n",
    "    D.move(Animal)\n",
    "elif animal == \"Lion\":\n",
    "    L = Lion()\n",
    "    L.move(Animal)\n",
    "else:\n",
    "    print(\"Invalid animal specie\")"
   ]
  },
  {
   "cell_type": "code",
   "execution_count": 31,
   "id": "c32f8bcb",
   "metadata": {},
   "outputs": [
    {
     "name": "stdout",
     "output_type": "stream",
     "text": [
      "Abstract Base Class\n",
      "subclass\n"
     ]
    }
   ],
   "source": [
    "from abc import ABC, abstractmethod\n",
    "\n",
    "class R(ABC):\n",
    "    \n",
    "    def rk(self):\n",
    "        print(\"Abstract Base Class\")\n",
    "\n",
    "class K(R):\n",
    "    def rk(self):\n",
    "        super().rk()\n",
    "        print(\"subclass\")\n",
    "\n",
    "# Object instantiation\n",
    "r = K()\n",
    "r.rk()\n"
   ]
  },
  {
   "cell_type": "code",
   "execution_count": 35,
   "id": "5e389460",
   "metadata": {},
   "outputs": [
    {
     "name": "stdout",
     "output_type": "stream",
     "text": [
      "Total Naira Value here:  5000\n",
      "Total Naira Value here: 2000\n"
     ]
    }
   ],
   "source": [
    "from abc import ABC, abstractmethod\n",
    "\n",
    "class Bank(ABC):\n",
    "    def branch(self, Naira):\n",
    "        print(\"Fees submitted : \",Naira)\n",
    "   \n",
    "    @abstractmethod\n",
    "    def Bank(Naira):\n",
    "        pass\n",
    "        \n",
    "    \n",
    "class private(Bank):\n",
    "    def Bank(Naira):\n",
    "        print(\"Total Naira Value here: \",Naira)\n",
    "        \n",
    "class public(Bank):\n",
    "    def Bank(Naira):\n",
    "        print(\"Total Naira Value here:\",Naira)\n",
    "\n",
    "private.Bank(5000)\n",
    "public.Bank(2000)\n",
    "\n",
    "a = public()\n",
    "#a.branch(3500)"
   ]
  },
  {
   "cell_type": "code",
   "execution_count": null,
   "id": "01acabbe",
   "metadata": {},
   "outputs": [],
   "source": []
  }
 ],
 "metadata": {
  "kernelspec": {
   "display_name": "Python 3 (ipykernel)",
   "language": "python",
   "name": "python3"
  },
  "language_info": {
   "codemirror_mode": {
    "name": "ipython",
    "version": 3
   },
   "file_extension": ".py",
   "mimetype": "text/x-python",
   "name": "python",
   "nbconvert_exporter": "python",
   "pygments_lexer": "ipython3",
   "version": "3.10.9"
  }
 },
 "nbformat": 4,
 "nbformat_minor": 5
}
