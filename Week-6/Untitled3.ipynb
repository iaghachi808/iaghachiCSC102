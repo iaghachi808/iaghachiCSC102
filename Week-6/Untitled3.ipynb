{
 "cells": [
  {
   "cell_type": "code",
   "execution_count": 6,
   "id": "d94f9054",
   "metadata": {},
   "outputs": [
    {
     "data": {
      "text/html": [
       "<div>\n",
       "<style scoped>\n",
       "    .dataframe tbody tr th:only-of-type {\n",
       "        vertical-align: middle;\n",
       "    }\n",
       "\n",
       "    .dataframe tbody tr th {\n",
       "        vertical-align: top;\n",
       "    }\n",
       "\n",
       "    .dataframe thead th {\n",
       "        text-align: right;\n",
       "    }\n",
       "</style>\n",
       "<table border=\"1\" class=\"dataframe\">\n",
       "  <thead>\n",
       "    <tr style=\"text-align: right;\">\n",
       "      <th></th>\n",
       "      <th>Exports</th>\n",
       "      <th>Segments</th>\n",
       "      <th>Brands</th>\n",
       "    </tr>\n",
       "  </thead>\n",
       "  <tbody>\n",
       "    <tr>\n",
       "      <th>0</th>\n",
       "      <td>Cocoa butter</td>\n",
       "      <td>Bournvita</td>\n",
       "      <td>CADBURY BOURNVITA</td>\n",
       "    </tr>\n",
       "    <tr>\n",
       "      <th>1</th>\n",
       "      <td>Cake</td>\n",
       "      <td>Hot Chocolate</td>\n",
       "      <td>CADBURY 3-in-1 HOT CHOCOLATE</td>\n",
       "    </tr>\n",
       "    <tr>\n",
       "      <th>2</th>\n",
       "      <td>Liquor</td>\n",
       "      <td>TomTom</td>\n",
       "      <td>TOMTOM CLASSIC</td>\n",
       "    </tr>\n",
       "    <tr>\n",
       "      <th>3</th>\n",
       "      <td>Powder</td>\n",
       "      <td>Buttermint</td>\n",
       "      <td>TOMTOM STRAWBERRY</td>\n",
       "    </tr>\n",
       "    <tr>\n",
       "      <th>4</th>\n",
       "      <td></td>\n",
       "      <td>Cocoa Powdwer</td>\n",
       "      <td>BUTTERMINT</td>\n",
       "    </tr>\n",
       "    <tr>\n",
       "      <th>5</th>\n",
       "      <td></td>\n",
       "      <td>Cocoa butter</td>\n",
       "      <td>COCOA POWDER</td>\n",
       "    </tr>\n",
       "    <tr>\n",
       "      <th>6</th>\n",
       "      <td></td>\n",
       "      <td>Cocoa Liquor</td>\n",
       "      <td>COCOA BUTTER</td>\n",
       "    </tr>\n",
       "    <tr>\n",
       "      <th>7</th>\n",
       "      <td></td>\n",
       "      <td>Cocoa Cake</td>\n",
       "      <td></td>\n",
       "    </tr>\n",
       "  </tbody>\n",
       "</table>\n",
       "</div>"
      ],
      "text/plain": [
       "        Exports         Segments                        Brands\n",
       "0  Cocoa butter        Bournvita             CADBURY BOURNVITA\n",
       "1          Cake    Hot Chocolate  CADBURY 3-in-1 HOT CHOCOLATE\n",
       "2        Liquor           TomTom                TOMTOM CLASSIC\n",
       "3        Powder       Buttermint             TOMTOM STRAWBERRY\n",
       "4                  Cocoa Powdwer                    BUTTERMINT\n",
       "5                   Cocoa butter                  COCOA POWDER\n",
       "6                   Cocoa Liquor                  COCOA BUTTER\n",
       "7                     Cocoa Cake                              "
      ]
     },
     "execution_count": 6,
     "metadata": {},
     "output_type": "execute_result"
    }
   ],
   "source": [
    "import pandas as pd \n",
    "\n",
    "cadburymarket = {'Exports': [\"Cocoa butter\",\"Cake\",\"Liquor\",\"Powder\",\"  \",\"  \",\"  \",\"  \"], \n",
    "                   'Segments': [   \"Bournvita\",\"Hot Chocolate\",\"TomTom\",\"Buttermint\",\"  Cocoa Powdwer\",\"  Cocoa butter\",\"  Cocoa Liquor\",\"  Cocoa Cake\"],\n",
    "                 'Brands': [\"CADBURY BOURNVITA\",\"CADBURY 3-in-1 HOT CHOCOLATE\",\"TOMTOM CLASSIC\",\"TOMTOM STRAWBERRY\",\"BUTTERMINT\",\"COCOA POWDER\",\"COCOA BUTTER\",\"  \"]\n",
    "                }\n",
    "df = pd.DataFrame(cadburymarket)\n",
    "\n",
    "df\n"
   ]
  },
  {
   "cell_type": "code",
   "execution_count": null,
   "id": "8121135a",
   "metadata": {},
   "outputs": [],
   "source": []
  }
 ],
 "metadata": {
  "kernelspec": {
   "display_name": "Python 3 (ipykernel)",
   "language": "python",
   "name": "python3"
  },
  "language_info": {
   "codemirror_mode": {
    "name": "ipython",
    "version": 3
   },
   "file_extension": ".py",
   "mimetype": "text/x-python",
   "name": "python",
   "nbconvert_exporter": "python",
   "pygments_lexer": "ipython3",
   "version": "3.10.9"
  }
 },
 "nbformat": 4,
 "nbformat_minor": 5
}
