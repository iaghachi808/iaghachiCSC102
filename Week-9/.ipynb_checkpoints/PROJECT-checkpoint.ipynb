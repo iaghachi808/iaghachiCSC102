{
 "cells": [
  {
   "cell_type": "code",
   "execution_count": 2,
   "id": "254f7ce4",
   "metadata": {},
   "outputs": [
    {
     "name": "stdout",
     "output_type": "stream",
     "text": [
      "Dear Employee...\n",
      "Welcome to Zenith Bank!\n",
      "Name:David \n",
      "Please Select Your Division\n",
      "Enter 1 for Retail Banking\n",
      "      2 for Global Banking\n",
      "      3 for Commercial Banking\n",
      "1\n",
      "Services unique to this division:\n",
      "Retirement and education accounts\n",
      "Loans and mortgages\n",
      "Checking and savings\n",
      "\n",
      "Mutual services in this division:\n",
      "Insurance\n",
      "Lines of credit\n",
      "Investment management and accounts\n"
     ]
    }
   ],
   "source": [
    "\n",
    "class zenith():  \n",
    "    def unique_services(self):\n",
    "        print('Services unique to this division:\\nRetirement and education accounts\\nLoans and mortgages\\nChecking and savings\\nAdvisory services\\nMulti-currency management services and products\\nForeign currency accounts\\nForeign currency credit cards\\nTransborder advisory services\\nLiquidity management')\n",
    "    \n",
    "    def mutual_services(self):\n",
    "        print('\\nMutual services in this division:\\nInsurance\\nLines of credit\\nInvestment management and accounts')\n",
    "\n",
    "class Retail_Banking(zenith):\n",
    "    def unique_services(self):\n",
    "        print('Services unique to this division:\\nRetirement and education accounts\\nLoans and mortgages\\nChecking and savings')\n",
    "    \n",
    "class Global_Banking(zenith):\n",
    "    def unique_services(self):\n",
    "        print('Services unique to this division:\\nMulti-currency management services and products\\nForeign currency accounts\\nForeign currency credit cards\\nTransborder advisory services\\nLiquidity management')\n",
    "    \n",
    "    def mutual_services(self):\n",
    "        print('\\nMutual services in this division:\\nNone')\n",
    "\n",
    "class Commercial_Banking(zenith):\n",
    "    def unique_services(self):\n",
    "        print('Services unique to this division:\\nAdvisory services')\n",
    "    \n",
    "name = input('Dear Employee...\\nWelcome to Zenith Bank!\\nName:')\n",
    "div = int(input('Please Select Your Division\\nEnter 1 for Retail Banking\\n      2 for Global Banking\\n      3 for Commercial Banking\\n'))\n",
    "\n",
    "obj_z = zenith()\n",
    "obj_rb = Retail_Banking()\n",
    "obj_gb = Global_Banking()\n",
    "obj_cb = Commercial_Banking()\n",
    "\n",
    "if div == 1:\n",
    "    obj_rb.unique_services()\n",
    "    obj_rb.mutual_services()\n",
    "elif div == 2:\n",
    "    obj_gb.unique_services()\n",
    "    obj_gb.mutual_services()\n",
    "elif div == 3:\n",
    "    obj_cb.unique_services()\n",
    "    obj_cb.mutual_services()\n",
    "else:\n",
    "    print('Division Not Found!')\n",
    "        \n",
    "    "
   ]
  },
  {
   "cell_type": "code",
   "execution_count": null,
   "id": "c9916d6a",
   "metadata": {},
   "outputs": [],
   "source": []
  }
 ],
 "metadata": {
  "kernelspec": {
   "display_name": "Python 3 (ipykernel)",
   "language": "python",
   "name": "python3"
  },
  "language_info": {
   "codemirror_mode": {
    "name": "ipython",
    "version": 3
   },
   "file_extension": ".py",
   "mimetype": "text/x-python",
   "name": "python",
   "nbconvert_exporter": "python",
   "pygments_lexer": "ipython3",
   "version": "3.10.9"
  }
 },
 "nbformat": 4,
 "nbformat_minor": 5
}
