{
 "cells": [
  {
   "cell_type": "code",
   "execution_count": null,
   "id": "bec168df",
   "metadata": {},
   "outputs": [
    {
     "name": "stdout",
     "output_type": "stream",
     "text": [
      "1. Dean \n",
      "2. Coordinator \n",
      "3. Senior Lecturer \n",
      "4. Lecturer\n"
     ]
    }
   ],
   "source": [
    "class SST():\n",
    "    \n",
    "    def dean(self):\n",
    "        hour = int(input(\"Good Morning boss\\n How many hours did you work \"))\n",
    "        self.hour = hour\n",
    "        salary = hour * 30000000000\n",
    "        print(f\"Your Salary is {salary}NGN\")\n",
    "    def senior_lecturer(self):\n",
    "        hour = int(input(\"Good morndfdgf \"))\n",
    "        self.hour = hour\n",
    "        salary = hour * 456789\n",
    "        print(salary)\n",
    "    \n",
    "print(\"1. Dean \\n2. Coordinator \\n3. Senior Lecturer \\n4. Lecturer\")\n",
    "\n",
    "why = int(input(\"Please input your position\"))\n",
    "object = SST()\n",
    "\n",
    "    \n",
    "if why == 1:\n",
    "    object.dean()\n",
    "    "
   ]
  },
  {
   "cell_type": "code",
   "execution_count": null,
   "id": "182f002b",
   "metadata": {},
   "outputs": [],
   "source": []
  }
 ],
 "metadata": {
  "kernelspec": {
   "display_name": "Python 3 (ipykernel)",
   "language": "python",
   "name": "python3"
  },
  "language_info": {
   "codemirror_mode": {
    "name": "ipython",
    "version": 3
   },
   "file_extension": ".py",
   "mimetype": "text/x-python",
   "name": "python",
   "nbconvert_exporter": "python",
   "pygments_lexer": "ipython3",
   "version": "3.10.9"
  }
 },
 "nbformat": 4,
 "nbformat_minor": 5
}
