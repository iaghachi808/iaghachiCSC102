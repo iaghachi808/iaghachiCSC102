{
 "cells": [
  {
   "cell_type": "code",
   "execution_count": 10,
   "id": "7732ff50",
   "metadata": {},
   "outputs": [
    {
     "name": "stdout",
     "output_type": "stream",
     "text": [
      "A code to calculate the Amount after 5 years with a rate of 10% and principal of 10,000NGN\n",
      " \n",
      " \n",
      "Enter the principal amount : 234579\n",
      "Enter the number of years : 6\n",
      "Enter the rate of interest : 7\n",
      "333102.18\n"
     ]
    }
   ],
   "source": [
    "print(\"A code to calculate the Amount after 5 years with a rate of 10% and principal of 10,000NGN\")\n",
    "print(\" \")\n",
    "print(\" \")\n",
    "p = int(input(\"Enter the principal amount : \"))\n",
    "\n",
    "T = int(input(\"Enter the number of years : \"))\n",
    "\n",
    "R = int(input(\"Enter the rate of interest : \"))\n",
    "\n",
    "A = p * (1 + (R / 100) * T)\n",
    "\n",
    "\n",
    "print (A)\n",
    "\n",
    "\n"
   ]
  },
  {
   "cell_type": "code",
   "execution_count": 11,
   "id": "b323fdfe",
   "metadata": {},
   "outputs": [
    {
     "name": "stdout",
     "output_type": "stream",
     "text": [
      "A code to calculate compound interest\n",
      " \n",
      " \n",
      "Enter n: 3\n",
      "52128666.66666669\n"
     ]
    }
   ],
   "source": [
    "print(\"A code to calculate compound interest\")\n",
    "print(\" \")\n",
    "print(\" \")\n",
    "n = int(input(\"Enter n: \"))\n",
    "A = p * (1 + R/n)**n*T\n",
    "print(A)\n",
    "\n"
   ]
  },
  {
   "cell_type": "code",
   "execution_count": 13,
   "id": "3338c1fe",
   "metadata": {},
   "outputs": [
    {
     "name": "stdout",
     "output_type": "stream",
     "text": [
      "A code to calculate annuity plan \n",
      " \n",
      " \n",
      "Enter a number: 23\n",
      "3069164613.428572\n"
     ]
    }
   ],
   "source": [
    "print(\"A code to calculate annuity plan \")\n",
    "print(\" \")\n",
    "print(\" \")\n",
    "M = int(input(\"Enter a number: \"))\n",
    "A = p * M * T * ((1 + R/n)**n*T - 1) / (R/n)\n",
    "print(A)\n",
    "\n"
   ]
  },
  {
   "cell_type": "code",
   "execution_count": null,
   "id": "2508ee99",
   "metadata": {},
   "outputs": [],
   "source": []
  },
  {
   "cell_type": "code",
   "execution_count": null,
   "id": "0951f42d",
   "metadata": {},
   "outputs": [],
   "source": []
  }
 ],
 "metadata": {
  "kernelspec": {
   "display_name": "Python 3 (ipykernel)",
   "language": "python",
   "name": "python3"
  },
  "language_info": {
   "codemirror_mode": {
    "name": "ipython",
    "version": 3
   },
   "file_extension": ".py",
   "mimetype": "text/x-python",
   "name": "python",
   "nbconvert_exporter": "python",
   "pygments_lexer": "ipython3",
   "version": "3.10.9"
  }
 },
 "nbformat": 4,
 "nbformat_minor": 5
}
