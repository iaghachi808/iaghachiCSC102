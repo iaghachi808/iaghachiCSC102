{
 "cells": [
  {
   "cell_type": "code",
   "execution_count": 5,
   "id": "5ab3ee9a",
   "metadata": {},
   "outputs": [
    {
     "name": "stdout",
     "output_type": "stream",
     "text": [
      "What is a? 3\n",
      "What is b? 4\n",
      "what is c? 5\n",
      "What is d? 3\n",
      "The roots of the equation are -0.5601280292638318 -0.3076512726718488 -0.4655540313976527\n"
     ]
    }
   ],
   "source": [
    "# cardano's formula\n",
    "\n",
    "a = float(input(\"What is a? \"))\n",
    "b = float(input(\"What is b? \"))\n",
    "c = float(input(\"what is c? \"))\n",
    "d = float(input(\"What is d? \"))\n",
    "i = (-1) ** 1/2\n",
    "\n",
    "\n",
    "#bring out the parameters and put down the formulas\n",
    "a1 = float(b / a)\n",
    "a2 = float(c / a)\n",
    "a3 = float(d / a)\n",
    "\n",
    "#solve more on the equation\n",
    "\n",
    "st_1 = float((a1 ** 2))\n",
    "st_2 = float(3 * a2)\n",
    "Q = (st_1 - st_2) / 9\n",
    "\n",
    "pt_1 = float(9 * a1 * a2)\n",
    "pt_2 = float(27 * a3)\n",
    "pt_3 = (a1) ** 3 \n",
    "pt_4 = float(pt_3 * 2)\n",
    "R = (pt_1 - pt_2 - pt_3) / 54\n",
    "\n",
    "tt_1 = (Q * 3) + (R * 2)\n",
    "tt_2 = R + tt_1\n",
    "S = (tt_2) ** 1/3\n",
    "\n",
    "rt_1 = (Q * 3) + (R * 2)\n",
    "rt_2 = R - rt_1\n",
    "T = (rt_2) ** 1/3\n",
    "\n",
    "#solution for the roots\n",
    "\n",
    "x1 = S + T - (1/3 * a1)\n",
    "\n",
    "x2 = (-1/2 * (S + T)) - (1/3 * a1) + (1/2 * (i ** 1/3) * (S - T))\n",
    "\n",
    "x3 = (-1/2 * (S + T)) - (1/3 * a1) - (1/2 * (i ** 1/3) * (S - T))\n",
    "\n",
    "print(\"The roots of the equation are\", x1, x2 ,x3)"
   ]
  },
  {
   "cell_type": "code",
   "execution_count": 3,
   "id": "46106ca2",
   "metadata": {},
   "outputs": [],
   "source": []
  },
  {
   "cell_type": "code",
   "execution_count": null,
   "id": "56d877b0",
   "metadata": {},
   "outputs": [],
   "source": []
  }
 ],
 "metadata": {
  "kernelspec": {
   "display_name": "Python 3 (ipykernel)",
   "language": "python",
   "name": "python3"
  },
  "language_info": {
   "codemirror_mode": {
    "name": "ipython",
    "version": 3
   },
   "file_extension": ".py",
   "mimetype": "text/x-python",
   "name": "python",
   "nbconvert_exporter": "python",
   "pygments_lexer": "ipython3",
   "version": "3.10.9"
  }
 },
 "nbformat": 4,
 "nbformat_minor": 5
}
