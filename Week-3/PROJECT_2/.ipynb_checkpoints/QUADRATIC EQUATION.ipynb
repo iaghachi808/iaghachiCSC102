{
 "cells": [
  {
   "cell_type": "code",
   "execution_count": 2,
   "id": "14c39882",
   "metadata": {},
   "outputs": [
    {
     "name": "stdout",
     "output_type": "stream",
     "text": [
      "Code to find the roots of a quadratic equation\n",
      "Enter a: 4\n",
      "Enter b: 5\n",
      "Enter c: 6\n",
      "Real and Different roots \n",
      "2.181243040080456\n",
      "-3.431243040080456\n"
     ]
    }
   ],
   "source": [
    "import math\n",
    "\n",
    "print(\"Code to find the roots of a quadratic equation\")\n",
    "a = int(input('Enter a: '))\n",
    "b = int(input('Enter b: '))\n",
    "c = int(input('Enter c: '))\n",
    "\n",
    "d_R = int((b * b - 4) * a * c)\n",
    "sqrt_VAL = math.sqrt(abs(d_R))\n",
    "\n",
    "import math\n",
    "def findRoots(a,b,c):\n",
    "    \n",
    "    print(int(d_R))\n",
    "\n",
    "if d_R > 0:\n",
    "    print(\"Real and Different roots \")\n",
    "    print((-b + sqrt_VAL)/ (2 * a))\n",
    "    print((-b - sqrt_VAL)/ (2 * a))\n",
    "            \n",
    "elif d_R == 0:\n",
    "    print(\"Real and Same roots \")\n",
    "    print(-b/(2 * a))\n",
    "\n",
    "    \n",
    "if a == 0:\n",
    "    print(\"Unsolvable equation \")\n",
    "                \n",
    "    "
   ]
  },
  {
   "cell_type": "code",
   "execution_count": null,
   "id": "5e6d01d2",
   "metadata": {},
   "outputs": [],
   "source": []
  }
 ],
 "metadata": {
  "kernelspec": {
   "display_name": "Python 3 (ipykernel)",
   "language": "python",
   "name": "python3"
  },
  "language_info": {
   "codemirror_mode": {
    "name": "ipython",
    "version": 3
   },
   "file_extension": ".py",
   "mimetype": "text/x-python",
   "name": "python",
   "nbconvert_exporter": "python",
   "pygments_lexer": "ipython3",
   "version": "3.10.9"
  }
 },
 "nbformat": 4,
 "nbformat_minor": 5
}
