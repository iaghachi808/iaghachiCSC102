{
 "cells": [
  {
   "cell_type": "code",
   "execution_count": null,
   "metadata": {},
   "outputs": [
    {
     "name": "stdout",
     "output_type": "stream",
     "text": [
      "Welcome to Pan-Atlantic University \n",
      " Enter the required details\n",
      "Enter your valid name: Something\n",
      "Enter your departmentMass Comm\n",
      "Enter your jamb score: 213\n",
      "Enter total number of credits: 5\n",
      "Did you pass an interview....Press 1 if yes and 2 if No:2\n"
     ]
    }
   ],
   "source": [
    "import pandas as pd\n",
    "\n",
    "print(\"Welcome to Pan-Atlantic University \\n Enter the required details\")\n",
    "\n",
    "for i in range(10):\n",
    "    name = input(\"Enter your valid name: \")\n",
    "    department = input(\"Enter your department\")\n",
    "    jamb = int(input(\"Enter your jamb score: \"))\n",
    "    credits = int(input(\"Enter total number of credits: \"))\n",
    "    interview = int(input(\"Did you pass an interview....Press 1 if yes and 2 if No:\"))\n",
    "\n",
    "    if jamb >= 230 and credits > 5 and interview == 1:\n",
    "        \n",
    "        admitted =  {'Name':[name], 'Department': [department],\n",
    "            'JambScore': [jamb],\n",
    "            'Credits':[credits], 'InterviewStat': [interview]}\n",
    "\n",
    "        notiadmitted =   {'Name':[name], 'Department': [department],\n",
    "            'JambScore': [jamb],\n",
    "            'Credits':[credits], 'InterviewStat': [interview]}      \n",
    "            \n",
    "        df = pd.DataFrame(admitted)\n",
    "\n",
    "        df.to_csv('admitted.csv')\n",
    "        \n",
    "    elif jamb >= 220 and credits > 5 and interview == 1:\n",
    "        df = pd.DataFrame(admitted)\n",
    "\n",
    "        df.to_csv('admitted.csv')\n",
    "        \n",
    "    else:\n",
    "        df = pd.DataFrame(notadmitted)\n",
    "\n",
    "        df.to_csv('notadmitted.csv')\n",
    "        \n",
    "\n",
    "        \n",
    "            \n",
    "        \n",
    "        \n",
    "    "
   ]
  },
  {
   "cell_type": "code",
   "execution_count": null,
   "metadata": {},
   "outputs": [],
   "source": []
  }
 ],
 "metadata": {
  "kernelspec": {
   "display_name": "Python 3",
   "language": "python",
   "name": "python3"
  },
  "language_info": {
   "codemirror_mode": {
    "name": "ipython",
    "version": 3
   },
   "file_extension": ".py",
   "mimetype": "text/x-python",
   "name": "python",
   "nbconvert_exporter": "python",
   "pygments_lexer": "ipython3",
   "version": "3.8.3"
  }
 },
 "nbformat": 4,
 "nbformat_minor": 4
}
