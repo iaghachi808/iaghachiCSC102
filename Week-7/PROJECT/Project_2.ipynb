{
 "cells": [
  {
   "cell_type": "code",
   "execution_count": null,
   "metadata": {},
   "outputs": [],
   "source": []
  },
  {
   "cell_type": "code",
   "execution_count": null,
   "metadata": {},
   "outputs": [],
   "source": [
    "\n",
    "\n",
    "    \n",
    "    \n",
    "    "
   ]
  },
  {
   "cell_type": "code",
   "execution_count": null,
   "metadata": {},
   "outputs": [],
   "source": [
    "\n",
    "\n",
    "        \n",
    "\n",
    "\n"
   ]
  },
  {
   "cell_type": "code",
   "execution_count": 3,
   "metadata": {},
   "outputs": [
    {
     "name": "stdout",
     "output_type": "stream",
     "text": [
      "Welcome to Yega services\n",
      "Press 1. if you live in Ibeju \n",
      " Press 2. if you live in Epe\n",
      "2\n",
      "Enter weiight of package please: 14\n",
      "Make Payment of 5000NGN\n"
     ]
    }
   ],
   "source": [
    "def Ibeju():\n",
    "    weight = int(input(\"Enter weight of package please: \")) \n",
    "        \n",
    "    if weight >= 10:\n",
    "        print(\"Your bill is 2000NGN\")\n",
    "    elif weight < 10: \n",
    "        print(\"Your bill is 1500NGN\")\n",
    "        \n",
    "def Epe():\n",
    "    Weight = int(input(\"Enter weiight of package please: \"))\n",
    "    \n",
    "    if Weight >= 10:\n",
    "        print(\"Make Payment of 5000NGN\")\n",
    "    elif Weight < 10:\n",
    "        print(\"Make payment of 4000NGN\")\n",
    "\n",
    "print(\"Welcome to Yega services\")\n",
    "print(\"Press 1. if you live in Ibeju \\n Press 2. if you live in Epe\")\n",
    "      \n",
    "location = int(input())\n",
    "if location == 1:\n",
    "    Ibeju()\n",
    "elif location == 2:\n",
    "     Epe()"
   ]
  },
  {
   "cell_type": "code",
   "execution_count": 19,
   "metadata": {},
   "outputs": [
    {
     "ename": "AttributeError",
     "evalue": "partially initialized module 'pandas' has no attribute 'compat' (most likely due to a circular import)",
     "output_type": "error",
     "traceback": [
      "\u001b[1;31m---------------------------------------------------------------------------\u001b[0m",
      "\u001b[1;31mAttributeError\u001b[0m                            Traceback (most recent call last)",
      "\u001b[1;32m<ipython-input-19-41c6685511b8>\u001b[0m in \u001b[0;36m<module>\u001b[1;34m\u001b[0m\n\u001b[1;32m----> 1\u001b[1;33m \u001b[1;32mimport\u001b[0m \u001b[0mpandas\u001b[0m \u001b[1;32mas\u001b[0m \u001b[0mpd\u001b[0m\u001b[1;33m\u001b[0m\u001b[1;33m\u001b[0m\u001b[0m\n\u001b[0m\u001b[0;32m      2\u001b[0m \u001b[0mprint\u001b[0m\u001b[1;33m(\u001b[0m\u001b[1;34m\"Welcome to Pan-Atlantic University \\n Enter the required details\"\u001b[0m\u001b[1;33m)\u001b[0m\u001b[1;33m\u001b[0m\u001b[1;33m\u001b[0m\u001b[0m\n\u001b[0;32m      3\u001b[0m \u001b[1;33m\u001b[0m\u001b[0m\n\u001b[0;32m      4\u001b[0m \u001b[1;32mfor\u001b[0m \u001b[0mi\u001b[0m \u001b[1;32min\u001b[0m \u001b[0mrange\u001b[0m\u001b[1;33m(\u001b[0m\u001b[1;36m10\u001b[0m\u001b[1;33m)\u001b[0m\u001b[1;33m:\u001b[0m\u001b[1;33m\u001b[0m\u001b[1;33m\u001b[0m\u001b[0m\n\u001b[0;32m      5\u001b[0m     \u001b[0mname\u001b[0m \u001b[1;33m=\u001b[0m \u001b[0minput\u001b[0m\u001b[1;33m(\u001b[0m\u001b[1;34m\"Enter your valid name: \"\u001b[0m\u001b[1;33m)\u001b[0m\u001b[1;33m\u001b[0m\u001b[1;33m\u001b[0m\u001b[0m\n",
      "\u001b[1;32m~\\anaconda3\\lib\\site-packages\\pandas\\__init__.py\u001b[0m in \u001b[0;36m<module>\u001b[1;34m\u001b[0m\n\u001b[0;32m    191\u001b[0m \u001b[1;31m# GH 27101\u001b[0m\u001b[1;33m\u001b[0m\u001b[1;33m\u001b[0m\u001b[1;33m\u001b[0m\u001b[0m\n\u001b[0;32m    192\u001b[0m \u001b[1;31m# TODO: remove Panel compat in 1.0\u001b[0m\u001b[1;33m\u001b[0m\u001b[1;33m\u001b[0m\u001b[1;33m\u001b[0m\u001b[0m\n\u001b[1;32m--> 193\u001b[1;33m \u001b[1;32mif\u001b[0m \u001b[0mpandas\u001b[0m\u001b[1;33m.\u001b[0m\u001b[0mcompat\u001b[0m\u001b[1;33m.\u001b[0m\u001b[0mPY37\u001b[0m\u001b[1;33m:\u001b[0m\u001b[1;33m\u001b[0m\u001b[1;33m\u001b[0m\u001b[0m\n\u001b[0m\u001b[0;32m    194\u001b[0m \u001b[1;33m\u001b[0m\u001b[0m\n\u001b[0;32m    195\u001b[0m     \u001b[1;32mdef\u001b[0m \u001b[0m__getattr__\u001b[0m\u001b[1;33m(\u001b[0m\u001b[0mname\u001b[0m\u001b[1;33m)\u001b[0m\u001b[1;33m:\u001b[0m\u001b[1;33m\u001b[0m\u001b[1;33m\u001b[0m\u001b[0m\n",
      "\u001b[1;31mAttributeError\u001b[0m: partially initialized module 'pandas' has no attribute 'compat' (most likely due to a circular import)"
     ]
    }
   ],
   "source": [
    "import pandas as pd\n",
    "\n",
    "print(\"Welcome to Pan-Atlantic University \\n Enter the required details\")\n",
    "\n",
    "for i in range(10):\n",
    "    name = input(\"Enter your valid name: \")\n",
    "    department = input(\"Enter your department\")\n",
    "    jamb = int(input(\"Enter your jamb score: \"))\n",
    "    credits = int(input(\"Enter total number of credits: \"))\n",
    "    interview = int(input(\"Did you pass an interview....Press 1 if yes and 2 if No:\"))\n",
    "\n",
    "    if jamb >= 230 and credits > 5 and interview == 1:\n",
    "        \n",
    "        admitted =  {'Name':[name], 'Department': [department],\n",
    "            'JambScore': [jamb],\n",
    "            'Credits':[credits], 'InterviewStat': [interview]}\n",
    "\n",
    "        antiadmitted =   {'Name':[name], 'Department': [department],\n",
    "            'JambScore': [jamb],\n",
    "            'Credits':[credits], 'InterviewStat': [interview]}      \n",
    "            \n",
    "        df = pd.DataFrame(admitted)\n",
    "\n",
    "        df.to_csv('admitted.csv')\n",
    "        \n",
    "    elif jamb >= 220 and credits > 5 and interview == 1:\n",
    "        df = pd.DataFrame(admitted)\n",
    "\n",
    "        df.to_csv('admitted.csv')\n",
    "        \n",
    "    else:\n",
    "        df = pd.DataFrame(antiadmitted)\n",
    "\n",
    "        df.to_csv('antiadmitted.csv')\n",
    "        \n",
    "        print(\"Go back to secondary school\")\n",
    "        \n",
    "            \n",
    "        \n",
    "        \n",
    "    "
   ]
  },
  {
   "cell_type": "code",
   "execution_count": null,
   "metadata": {},
   "outputs": [],
   "source": []
  }
 ],
 "metadata": {
  "kernelspec": {
   "display_name": "Python 3",
   "language": "python",
   "name": "python3"
  },
  "language_info": {
   "codemirror_mode": {
    "name": "ipython",
    "version": 3
   },
   "file_extension": ".py",
   "mimetype": "text/x-python",
   "name": "python",
   "nbconvert_exporter": "python",
   "pygments_lexer": "ipython3",
   "version": "3.8.3"
  }
 },
 "nbformat": 4,
 "nbformat_minor": 4
}
