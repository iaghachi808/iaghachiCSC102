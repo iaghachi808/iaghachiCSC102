{
 "cells": [
  {
   "cell_type": "code",
   "execution_count": null,
   "id": "8e118cf9",
   "metadata": {},
   "outputs": [
    {
     "name": "stdout",
     "output_type": "stream",
     "text": [
      "   \n",
      "Welcome to FINTECHS \n",
      "\n",
      "We welcome the new employess \n",
      "\n",
      "Enter your official name: DAVID \n",
      "Enter your years of experience: 23\n",
      "Enter yor age: 45\n",
      "Welcome DAVID . You have an ATR of N1,500,000\n",
      "   \n",
      "Welcome to FINTECHS \n",
      "\n",
      "We welcome the new employess \n",
      "\n"
     ]
    }
   ],
   "source": [
    "for i  in range(2500):\n",
    "    print(\"   \")\n",
    "    print(\"Welcome to FINTECHS \\n\")\n",
    "    \n",
    "    print(\"We welcome the new employess \\n\")\n",
    "    \n",
    "    name = input(\"Enter your official name: \")\n",
    "    year = int(input(\"Enter your years of experience: \"))\n",
    "    age = int(input(\"Enter yor age: \"))\n",
    "\n",
    "    if year > 25 and age >= 55:\n",
    "        salary = \"N5,600,000\"\n",
    "        print(f\"Welcome {name}. You have an ATR of {ATR}\")\n",
    "\n",
    "    elif year > 20 and age >= 45:\n",
    "        salary = \"4,480,000\"\n",
    "        print(f\"Welcome {name}. You have an ATR of {ATR}\")\n",
    "\n",
    "\n",
    "    elif year > 10 and age >= 35:\n",
    "        ATR = \"N1,500,000\"\n",
    "        print(f\"Welcome {name}. You have an ATR of {ATR}\")\n",
    "\n",
    "    elif year < 10 and age < 35:\n",
    "        ATR = \"N550,000\"\n",
    "        print(f\"Welcome {name}. You have an ATR of {ATR}\")\n",
    "\n",
    "\n"
   ]
  },
  {
   "cell_type": "code",
   "execution_count": null,
   "id": "df214c8e",
   "metadata": {},
   "outputs": [],
   "source": []
  }
 ],
 "metadata": {
  "kernelspec": {
   "display_name": "Python 3 (ipykernel)",
   "language": "python",
   "name": "python3"
  },
  "language_info": {
   "codemirror_mode": {
    "name": "ipython",
    "version": 3
   },
   "file_extension": ".py",
   "mimetype": "text/x-python",
   "name": "python",
   "nbconvert_exporter": "python",
   "pygments_lexer": "ipython3",
   "version": "3.10.9"
  }
 },
 "nbformat": 4,
 "nbformat_minor": 5
}
