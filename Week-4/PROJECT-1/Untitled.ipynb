{
 "cells": [
  {
   "cell_type": "code",
   "execution_count": 1,
   "id": "1e585123",
   "metadata": {},
   "outputs": [
    {
     "name": "stdout",
     "output_type": "stream",
     "text": [
      "Welcome to school\n",
      "_________________________________________________\n",
      "Name    |    Age    |    Height    |    Score   |\n",
      "_________________________________________________\n",
      "Samantha   17          5.5            80 \n",
      "Jada       16          5.0            96\n",
      "Jane       17          5.4            70\n",
      "Claire     18          5.9            60\n",
      "Elizabeth  16          5.6            76\n",
      "Mary       18          5.5            66\n",
      "Susan      17          6.1            87\n",
      "Waje       20          6.0            95\n",
      "Jaibat     19          5.7            50\n",
      "Lilian     17          5.5            49\n",
      "Charles    19          5.7            74 \n",
      "Jude       16          5.9            87\n",
      "James      18          5.8            75\n",
      "Kelvin     17          6.1            68\n",
      "Biodun     20          5.9            66\n",
      "Wale       19          5.5            78\n",
      "Kunle      16          6.1            87\n",
      "Mathew     18          5.4            98\n",
      "Tom        17          5.8            54\n",
      "Kayode     19          5.7            60\n"
     ]
    }
   ],
   "source": [
    "print(\"Welcome to school\")\n",
    "#________________________________\n",
    "print(\"_________________________________________________\")\n",
    "print(\"Name    |    Age    |    Height    |    Score   |\")\n",
    "print(\"_________________________________________________\")\n",
    "\n",
    "abc = {\"Samantha \": \" 17          5.5            80 \", \"Jada \": \"     16          5.0            96\", \"Jane \": \"     17          5.4            70\", \"Claire \": \"   18          5.9            60\",\n",
    "      \"Elizabeth \": \"16          5.6            76\", \"Mary \": \"     18          5.5            66\", \"Susan \": \"    17          6.1            87\", \"Waje \": \"     20          6.0            95\",\"Jaibat \": \"   19          5.7            50\", \"Lilian \": \"   17          5.5            49\", \"Charles \": \"  19          5.7            74 \", \"Jude \": \"     16          5.9            87\", \"James \": \"    18          5.8            75\", \"Kelvin \": \"   17          6.1            68\",\n",
    "      \"Biodun \": \"   20          5.9            66\", \"Wale \": \"     19          5.5            78\", \"Kunle \": \"    16          6.1            87\", \"Mathew \": \"   18          5.4            98\",\"Tom \": \"      17          5.8            54\", \"Kayode \": \"   19          5.7            60\"}\n",
    "\n",
    "for pick in abc:\n",
    "    print(pick,abc[pick])"
   ]
  },
  {
   "cell_type": "code",
   "execution_count": null,
   "id": "f078cb47",
   "metadata": {},
   "outputs": [],
   "source": []
  }
 ],
 "metadata": {
  "kernelspec": {
   "display_name": "Python 3 (ipykernel)",
   "language": "python",
   "name": "python3"
  },
  "language_info": {
   "codemirror_mode": {
    "name": "ipython",
    "version": 3
   },
   "file_extension": ".py",
   "mimetype": "text/x-python",
   "name": "python",
   "nbconvert_exporter": "python",
   "pygments_lexer": "ipython3",
   "version": "3.10.9"
  }
 },
 "nbformat": 4,
 "nbformat_minor": 5
}
