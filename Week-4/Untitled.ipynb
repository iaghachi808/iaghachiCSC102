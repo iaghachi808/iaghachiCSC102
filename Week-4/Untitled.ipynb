{
 "cells": [
  {
   "cell_type": "code",
   "execution_count": 1,
   "id": "88e9b767",
   "metadata": {},
   "outputs": [
    {
     "name": "stdout",
     "output_type": "stream",
     "text": [
      "10\n",
      "20\n",
      "30\n",
      "40\n",
      "50\n"
     ]
    }
   ],
   "source": [
    "#Print the given sequence of numbers using for loop\n",
    "count =  [10,20,30,40,50]\n",
    "for num in count:\n",
    "    print(num)"
   ]
  },
  {
   "cell_type": "code",
   "execution_count": 2,
   "id": "65863da6",
   "metadata": {},
   "outputs": [
    {
     "name": "stdout",
     "output_type": "stream",
     "text": [
      "10\n",
      "20\n",
      "30\n",
      "40\n"
     ]
    }
   ],
   "source": [
    "for num in range(5):\n",
    "    if num > 0:\n",
    "        print(num * 10)"
   ]
  },
  {
   "cell_type": "code",
   "execution_count": 5,
   "id": "bc1f22c9",
   "metadata": {},
   "outputs": [
    {
     "name": "stdout",
     "output_type": "stream",
     "text": [
      "Enter numbers to find their sum, negative number ends the loop: \n",
      "0\n",
      "2\n",
      "3\n",
      "3\n",
      "2\n",
      "-1\n",
      "Sum = 10\n"
     ]
    }
   ],
   "source": [
    "entry = 0\n",
    "sum1 = 0\n",
    "print(\"Enter numbers to find their sum, negative number ends the loop: \")\n",
    "while True:\n",
    "    entry = int(input())\n",
    "    if (entry < 0):\n",
    "        break\n",
    "    sum1 += entry\n",
    "print(\"Sum =\", sum1)"
   ]
  },
  {
   "cell_type": "code",
   "execution_count": 7,
   "id": "f870a4f9",
   "metadata": {},
   "outputs": [
    {
     "name": "stdout",
     "output_type": "stream",
     "text": [
      "Num has value 1\n",
      "Num has value 2\n",
      "Num has value 3\n",
      "Num has value 4\n",
      "Num has value 5\n",
      "End of loop\n"
     ]
    }
   ],
   "source": [
    "num = 0\n",
    "for num in range(6):\n",
    "    num = num + 1\n",
    "    if num == 6:\n",
    "        continue\n",
    "    print('Num has value ' + str(num))\n",
    "print('End of loop')"
   ]
  },
  {
   "cell_type": "code",
   "execution_count": 10,
   "id": "4f24c6e8",
   "metadata": {},
   "outputs": [
    {
     "name": "stdout",
     "output_type": "stream",
     "text": [
      "Iteration 1 of outer loop \n",
      "1\n",
      "2\n",
      "Out of inner loop\n",
      "Iteration 2 of outer loop \n",
      "1\n",
      "2\n",
      "Out of inner loop\n",
      "Iteration 3 of outer loop \n",
      "1\n",
      "2\n",
      "Out of inner loop\n",
      "Out of outer loop\n"
     ]
    }
   ],
   "source": [
    "for var1 in range(3):\n",
    "    print( \"Iteration \" + str(var1 + 1) + \" of outer loop \")\n",
    "    for var2 in range(2):\n",
    "        print(var2 + 1)\n",
    "    print(\"Out of inner loop\")\n",
    "print(\"Out of outer loop\")\n"
   ]
  },
  {
   "cell_type": "code",
   "execution_count": 11,
   "id": "2598d6df",
   "metadata": {},
   "outputs": [
    {
     "name": "stdout",
     "output_type": "stream",
     "text": [
      "Enter name of City 1: we\n",
      "Enter name of City_2: rt\n",
      "The name of City 1 after swapping is rt\n",
      "The name of City 2 after swapping is we\n"
     ]
    }
   ],
   "source": [
    "city_1 = input(\"Enter name of City 1: \")\n",
    "city_2 = input(\"Enter name of City_2: \")\n",
    "\n",
    "temp = city_1\n",
    "city_1 = city_2\n",
    "city_2 = temp\n",
    "\n",
    "print(f\"The name of City 1 after swapping is {city_1}\")\n",
    "print(f\"The name of City 2 after swapping is {city_2}\")\n",
    "\n"
   ]
  },
  {
   "cell_type": "code",
   "execution_count": 12,
   "id": "00a369b9",
   "metadata": {},
   "outputs": [
    {
     "name": "stdout",
     "output_type": "stream",
     "text": [
      "Enter a number: 2\n",
      "Positive number\n"
     ]
    }
   ],
   "source": [
    "num = float(input(\"Enter a number: \"))\n",
    "if num > 0:\n",
    "    print(\"Positive number\")\n",
    "elif num == 0:\n",
    "    print(\"Zero\")\n",
    "else:\n",
    "    print(\"Negative number\")\n",
    "    "
   ]
  },
  {
   "cell_type": "code",
   "execution_count": 20,
   "id": "972e0808",
   "metadata": {},
   "outputs": [
    {
     "name": "stdout",
     "output_type": "stream",
     "text": [
      "Welcome to the COUPE DE ESCRIVA 2023: FOOTBALL PICKS \n",
      "\n",
      "Madiba:  Chubby Obiora-Okafo   Chubby Obiora-Okafo\n",
      "Blue-Jays:  Oladimeji Abaniwonda/Jeffery Awagu   Christopher Uweh\n",
      "Cirok:  Timileyin Pearse/Izuako Jeremy   Alexander\n",
      "TSG Walkers:  Ayomide Ojituku   Ikechukwu\n",
      "Madiba:  Chubby Obiora-Okafo   Chubby Obiora-Okafo\n",
      "Blue-Jays:  Oladimeji Abaniwonda/Jeffery Awagu   Christopher Uweh\n",
      "Cirok:  Timileyin Pearse/Izuako Jeremy   Alexander\n",
      "TSG Walkers:  Ayomide Ojituku   Ikechukwu\n",
      "Madiba:  Chubby Obiora-Okafo   Chubby Obiora-Okafo\n",
      "Blue-Jays:  Oladimeji Abaniwonda/Jeffery Awagu   Christopher Uweh\n",
      "Cirok:  Timileyin Pearse/Izuako Jeremy   Alexander\n",
      "TSG Walkers:  Ayomide Ojituku   Ikechukwu\n",
      "Madiba:  Chubby Obiora-Okafo   Chubby Obiora-Okafo\n",
      "Blue-Jays:  Oladimeji Abaniwonda/Jeffery Awagu   Christopher Uweh\n",
      "Cirok:  Timileyin Pearse/Izuako Jeremy   Alexander\n",
      "TSG Walkers:  Ayomide Ojituku   Ikechukwu\n"
     ]
    }
   ],
   "source": [
    "print(\"Welcome to the COUPE DE ESCRIVA 2023: FOOTBALL PICKS \\n\")\n",
    "\n",
    "captain = {'Madiba: ': 'Chubby Obiora-Okafo', 'Blue-Jays: ': 'Christopher Uweh', 'Cirok: ': 'Alexander', 'TSG Walkers: ': 'Ikechukwu'}\n",
    "\n",
    "goalkeepers = {'Madiba: ': \"Chubby Obiora-Okafo\", 'Blue-Jays: ': 'Oladimeji Abaniwonda/Jeffery Awagu', \"Cirok: \": 'Timileyin Pearse/Izuako Jeremy', 'TSG Walkers: ': 'Ayomide Ojituku'}\n",
    "\n",
    "for pick in captain:\n",
    "    for pick in goalkeepers:\n",
    "        print(pick,goalkeepers[pick],\" \",captain[pick])\n",
    "    \n",
    "        \n",
    "    \n",
    "    \n",
    "\n",
    "    \n"
   ]
  },
  {
   "cell_type": "code",
   "execution_count": 113,
   "id": "47dea923",
   "metadata": {},
   "outputs": [
    {
     "name": "stdout",
     "output_type": "stream",
     "text": [
      "Welcome to school\n",
      "_________________________________________________\n",
      "Name    |    Age    |    Height    |    Score   |\n",
      "_________________________________________________\n",
      "Samantha   17          5.5            80 \n",
      "Jada       16          5.0            96\n",
      "Jane       17          5.4            70\n",
      "Claire     18          5.9            60\n",
      "Elizabeth  16          5.6            76\n",
      "Mary       18          5.5            66\n",
      "Susan      17          6.1            87\n",
      "Waje       20          6.0            95\n",
      "Jaibat     19          5.7            50\n",
      "Lilian     17          5.5            49\n",
      "Charles    19          5.7            74 \n",
      "Jude       16          5.9            87\n",
      "James      18          5.8            75\n",
      "Kelvin     17          6.1            68\n",
      "Biodun     20          5.9            66\n",
      "Wale       19          5.5            78\n",
      "Kunle      16          6.1            87\n",
      "Mathew     18          5.4            98\n",
      "Tom        17          5.8            54\n",
      "Kayode     19          5.7            60\n"
     ]
    }
   ],
   "source": []
  },
  {
   "cell_type": "code",
   "execution_count": 112,
   "id": "3562b3d6",
   "metadata": {},
   "outputs": [
    {
     "name": "stdout",
     "output_type": "stream",
     "text": [
      "Welcome to school\n",
      "_________________________________________________\n",
      "Name    |    Age    |    Height    |    Score   |\n",
      "_________________________________________________\n",
      "Charles    19          5.7            74 \n",
      "Jude       16          5.9            87\n",
      "James      18          5.8            75\n",
      "Kelvin     17          6.1            68\n",
      "Biodun     20          5.9            66\n",
      "Wale       19          5.5            78\n",
      "Kunle      16          6.1            87\n",
      "Mathew     18          5.4            98\n",
      "Tom        17          5.8            54\n",
      "Kayode     19          5.7            60\n"
     ]
    }
   ],
   "source": [
    "print(\"Welcome to school\")\n",
    "#________________________________\n",
    "print(\"_________________________________________________\")\n",
    "print(\"Name    |    Age    |    Height    |    Score   |\")\n",
    "print(\"_________________________________________________\")\n",
    "\n",
    "abc = {\"Charles \": \"  19          5.7            74 \", \"Jude \": \"     16          5.9            87\", \"James \": \"    18          5.8            75\", \"Kelvin \": \"   17          6.1            68\",\n",
    "      \"Biodun \": \"   20          5.9            66\", \"Wale \": \"     19          5.5            78\", \"Kunle \": \"    16          6.1            87\", \"Mathew \": \"   18          5.4            98\",\"Tom \": \"      17          5.8            54\", \"Kayode \": \"   19          5.7            60\"}\n",
    "for pick in abc:\n",
    "    print(pick,abc[pick])"
   ]
  },
  {
   "cell_type": "code",
   "execution_count": null,
   "id": "10805373",
   "metadata": {},
   "outputs": [],
   "source": []
  }
 ],
 "metadata": {
  "kernelspec": {
   "display_name": "Python 3 (ipykernel)",
   "language": "python",
   "name": "python3"
  },
  "language_info": {
   "codemirror_mode": {
    "name": "ipython",
    "version": 3
   },
   "file_extension": ".py",
   "mimetype": "text/x-python",
   "name": "python",
   "nbconvert_exporter": "python",
   "pygments_lexer": "ipython3",
   "version": "3.10.9"
  }
 },
 "nbformat": 4,
 "nbformat_minor": 5
}
