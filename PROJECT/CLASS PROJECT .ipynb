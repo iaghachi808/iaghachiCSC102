{
 "cells": [
  {
   "cell_type": "code",
   "execution_count": 14,
   "id": "c3f1cddd",
   "metadata": {},
   "outputs": [
    {
     "name": "stdout",
     "output_type": "stream",
     "text": [
      "Enter your nameAghachi David \n",
      "Enter MatricNumber22120612798\n",
      "Enter DepartmentComputer Science \n",
      "Enter level of study100\n"
     ]
    },
    {
     "data": {
      "text/html": [
       "<div>\n",
       "<style scoped>\n",
       "    .dataframe tbody tr th:only-of-type {\n",
       "        vertical-align: middle;\n",
       "    }\n",
       "\n",
       "    .dataframe tbody tr th {\n",
       "        vertical-align: top;\n",
       "    }\n",
       "\n",
       "    .dataframe thead th {\n",
       "        text-align: right;\n",
       "    }\n",
       "</style>\n",
       "<table border=\"1\" class=\"dataframe\">\n",
       "  <thead>\n",
       "    <tr style=\"text-align: right;\">\n",
       "      <th></th>\n",
       "      <th>Student Name</th>\n",
       "      <th>Matric. Number</th>\n",
       "      <th>Department</th>\n",
       "      <th>Level</th>\n",
       "    </tr>\n",
       "  </thead>\n",
       "  <tbody>\n",
       "    <tr>\n",
       "      <th>0</th>\n",
       "      <td>Aghachi David</td>\n",
       "      <td>22120612798</td>\n",
       "      <td>Computer Science</td>\n",
       "      <td>100</td>\n",
       "    </tr>\n",
       "  </tbody>\n",
       "</table>\n",
       "</div>"
      ],
      "text/plain": [
       "     Student Name Matric. Number         Department Level\n",
       "0  Aghachi David     22120612798  Computer Science    100"
      ]
     },
     "execution_count": 14,
     "metadata": {},
     "output_type": "execute_result"
    }
   ],
   "source": [
    "import pandas as pd \n",
    "\n",
    "nameofstud = input(\"Enter your name\")\n",
    "Matricnum = input(\"Enter MatricNumber\")\n",
    "dept = input(\"Enter Department\")\n",
    "Level = input(\"Enter level of study\")\n",
    "\n",
    "frog = {'Student Name':[nameofstud],\n",
    "        'Matric. Number':[Matricnum],\n",
    "        'Department':[dept],\n",
    "        'Level':[Level]}\n",
    "df = pd.DataFrame(frog)\n",
    "df.to_csv('frog.csv')\n",
    "df \n"
   ]
  },
  {
   "cell_type": "code",
   "execution_count": 15,
   "id": "2828e73a",
   "metadata": {},
   "outputs": [
    {
     "data": {
      "text/html": [
       "<div>\n",
       "<style scoped>\n",
       "    .dataframe tbody tr th:only-of-type {\n",
       "        vertical-align: middle;\n",
       "    }\n",
       "\n",
       "    .dataframe tbody tr th {\n",
       "        vertical-align: top;\n",
       "    }\n",
       "\n",
       "    .dataframe thead th {\n",
       "        text-align: right;\n",
       "    }\n",
       "</style>\n",
       "<table border=\"1\" class=\"dataframe\">\n",
       "  <thead>\n",
       "    <tr style=\"text-align: right;\">\n",
       "      <th></th>\n",
       "      <th>Company</th>\n",
       "      <th>Date of Origin</th>\n",
       "      <th>Companys Assets</th>\n",
       "      <th>Companys Liabilities</th>\n",
       "      <th>Percentage Leverages</th>\n",
       "    </tr>\n",
       "  </thead>\n",
       "  <tbody>\n",
       "    <tr>\n",
       "      <th>0</th>\n",
       "      <td>Enron</td>\n",
       "      <td>1987</td>\n",
       "      <td>1,000,000</td>\n",
       "      <td>200,000</td>\n",
       "      <td>80.000000</td>\n",
       "    </tr>\n",
       "    <tr>\n",
       "      <th>1</th>\n",
       "      <td>Anderson</td>\n",
       "      <td>1936</td>\n",
       "      <td>1,500,000</td>\n",
       "      <td>500,000</td>\n",
       "      <td>66.666667</td>\n",
       "    </tr>\n",
       "    <tr>\n",
       "      <th>2</th>\n",
       "      <td>GK Jones</td>\n",
       "      <td>2001</td>\n",
       "      <td>3,000,000</td>\n",
       "      <td>1,500,000</td>\n",
       "      <td>50.000000</td>\n",
       "    </tr>\n",
       "    <tr>\n",
       "      <th>3</th>\n",
       "      <td>Mica</td>\n",
       "      <td>1996</td>\n",
       "      <td>250,000</td>\n",
       "      <td>50,000</td>\n",
       "      <td>80.000000</td>\n",
       "    </tr>\n",
       "    <tr>\n",
       "      <th>4</th>\n",
       "      <td>Dune</td>\n",
       "      <td>2008</td>\n",
       "      <td>800,000</td>\n",
       "      <td>300,000</td>\n",
       "      <td>62.500000</td>\n",
       "    </tr>\n",
       "  </tbody>\n",
       "</table>\n",
       "</div>"
      ],
      "text/plain": [
       "    Company  Date of Origin Companys Assets Companys Liabilities  \\\n",
       "0     Enron            1987       1,000,000              200,000   \n",
       "1  Anderson            1936       1,500,000              500,000   \n",
       "2  GK Jones            2001       3,000,000            1,500,000   \n",
       "3      Mica            1996         250,000               50,000   \n",
       "4      Dune            2008         800,000              300,000   \n",
       "\n",
       "   Percentage Leverages  \n",
       "0             80.000000  \n",
       "1             66.666667  \n",
       "2             50.000000  \n",
       "3             80.000000  \n",
       "4             62.500000  "
      ]
     },
     "execution_count": 15,
     "metadata": {},
     "output_type": "execute_result"
    }
   ],
   "source": [
    "import pandas as pd \n",
    "\n",
    "Company_file = {'Company':['Enron', 'Anderson', 'GK Jones', 'Mica', 'Dune'],\n",
    "               'Date of Origin':[1987, 1936, 2001, 1996, 2008], \n",
    "               'Companys Assets':['1,000,000', '1,500,000', '3,000,000', '250,000', '800,000'],\n",
    "               'Companys Liabilities':['200,000', '500,000', '1,500,000', '50,000', '300,000'],\n",
    "               'Percentage Leverages':[((1000000 - 200000) / 1000000) * 100, ((1500000 - 500000) / 1500000) * 100, ((3000000 - 1500000) / 3000000) * 100, ((250000 - 50000) / 250000) * 100, ((800000 - 300000) / 800000) * 100]}\n",
    "df = pd.DataFrame(Company_file)\n",
    "df.to_csv('Company_file.csv')\n",
    "df \n"
   ]
  },
  {
   "cell_type": "code",
   "execution_count": null,
   "id": "816b2e44",
   "metadata": {},
   "outputs": [],
   "source": []
  }
 ],
 "metadata": {
  "kernelspec": {
   "display_name": "Python 3 (ipykernel)",
   "language": "python",
   "name": "python3"
  },
  "language_info": {
   "codemirror_mode": {
    "name": "ipython",
    "version": 3
   },
   "file_extension": ".py",
   "mimetype": "text/x-python",
   "name": "python",
   "nbconvert_exporter": "python",
   "pygments_lexer": "ipython3",
   "version": "3.10.9"
  }
 },
 "nbformat": 4,
 "nbformat_minor": 5
}
